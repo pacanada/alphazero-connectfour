{
 "cells": [
  {
   "cell_type": "markdown",
   "metadata": {},
   "source": [
    "We are going to implement Monte Carlo Tree Search in this notebook"
   ]
  },
  {
   "cell_type": "code",
   "execution_count": 1,
   "metadata": {},
   "outputs": [],
   "source": [
    "import os\n",
    "os.chdir('../')\n",
    "from game import Connect2Game"
   ]
  },
  {
   "cell_type": "code",
   "execution_count": 2,
   "metadata": {},
   "outputs": [],
   "source": [
    "from itertools import combinations, permutations, combinations_with_replacement, product\n",
    "import itertools\n",
    "import numpy as np\n",
    "import random\n",
    "import copy\n",
    "\n",
    "from abc import ABC, abstractmethod\n",
    "    \n",
    "class Game(ABC):\n",
    "     \n",
    "    @abstractmethod\n",
    "    def play(self):\n",
    "        pass\n",
    "    @abstractmethod\n",
    "    def _is_legal(self):\n",
    "        pass\n",
    "    @abstractmethod\n",
    "    def _is_win(self):\n",
    "        pass\n",
    "    @abstractmethod\n",
    "    def _get_possible_next_states(self):\n",
    "        pass\n",
    "    \n",
    "class Connect2(Game):\n",
    "    def __init__(self, state:list=[0,0,0,0] ):\n",
    "        self.board=state\n",
    "        self.action_space=[0,1,2,3]\n",
    "        self.player=1\n",
    "        self.reward_win = 1\n",
    "        self.reward_draw = 0.5\n",
    "        self.reward_loss = 0\n",
    "        \n",
    "        \n",
    "    def reset(self,):\n",
    "        self.board=[0,0,0,0]\n",
    "        self.player=1\n",
    "        return self\n",
    "    \n",
    "    def init_custom(self,state, player):\n",
    "        self.board=state\n",
    "        self.player=player\n",
    "        return self\n",
    "\n",
    "    def play(self, action):\n",
    "      \n",
    "        if action not in self.action_space:\n",
    "            raise ValueError(f\"Action: {action} is not allowed from the action space: {self.action_space}\")\n",
    "            \n",
    "        if self._is_legal(action):\n",
    "            self.board[action]= self.player\n",
    "            is_win=self._is_win()\n",
    "            if is_win:\n",
    "                print(\"player\", self.player, \"is winner\")\n",
    "                return self.reward_win\n",
    "            if not is_win and len(self._get_possible_actions(self.board))==0:\n",
    "                print(\"draw\")\n",
    "                return self.reward_draw\n",
    "            \n",
    "            self.player = self.player*-1\n",
    "            \n",
    "        else:\n",
    "            raise ValueError(\"Illegal move\")\n",
    "            \n",
    "    def play_mcts(self, action):\n",
    "        \"\"\"From the perspective of player 1\"\"\"\n",
    "      \n",
    "        if action not in self.action_space:\n",
    "            raise ValueError(f\"Action: {action} is not allowed from the action space: {self.action_space}\")\n",
    "            \n",
    "        if self._is_legal(action):\n",
    "            self.board[action]= self.player\n",
    "            is_win=self._is_win()\n",
    "            if is_win and self.player==1:\n",
    "                print(\"player\", self.player, \"is winner\")\n",
    "                return self.reward_win\n",
    "            elif is_win and self.player==-1:\n",
    "                print(\"player\", self.player, \"is winner\")\n",
    "                return self.reward_loss\n",
    "            elif not is_win and len(self._get_possible_actions(self.board))==0:\n",
    "                print(\"draw\")\n",
    "                return self.reward_draw\n",
    "            \n",
    "            self.player = self.player*-1\n",
    "            \n",
    "        else:\n",
    "            raise ValueError(\"Illegal move\")\n",
    "        \n",
    "    def _is_legal(self, action, state=None):\n",
    "        \"\"\"We allow to ways of calling the method. Directly to check if an state is win or lost or by chcking the board\"\"\"\n",
    "        is_legal=False\n",
    "        \n",
    "        if state is None:\n",
    "            state = self.board.copy()\n",
    "\n",
    "        if state[action]==0:\n",
    "            is_legal=True\n",
    "        return is_legal\n",
    "\n",
    "    def _is_win(self, state=None):\n",
    "        \"\"\"We allow to ways of calling the method. Directly to check if an state is win or lost or by chcking the board\"\"\"\n",
    "        is_win = False\n",
    "        if state is None:\n",
    "            state = self.board.copy()\n",
    "            \n",
    "        if abs(sum(state[0:2]))==2 or abs(sum(state[1:3]))==2 or abs(sum(state[2:4]))==2:\n",
    "            #print(self.player, \"is winner\")\n",
    "            is_win = True\n",
    "            return is_win\n",
    "        \n",
    "\n",
    "\n",
    "    def _get_possible_next_states(self, state):\n",
    "        \"\"\"Give possible states from the state position. Action is the same as index. Potentially problematic.\n",
    "        We are passing current state as argument, not necessarily the state of the board as it is.\"\"\"\n",
    "        possible_actions = self._get_possible_actions(state=state)\n",
    "        possible_next_states = []\n",
    "        \n",
    "        for action in possible_actions:\n",
    "            board = state.copy()\n",
    "            board[action]=self.player\n",
    "            possible_next_states.append(board)\n",
    "            \n",
    "        return possible_next_states\n",
    "\n",
    "        \n",
    "    def _get_possible_actions(self, state): \n",
    "        \"\"\"Return all posible actions in the form of array [1,2] for example for [1,0,0,-1]\"\"\"\n",
    "        return np.where(np.array(state)==0)[0]\n",
    "    \n",
    "        \n",
    "    def render(self,):\n",
    "        print(self.board, \"Next player:\", self.player)\n"
   ]
  },
  {
   "cell_type": "code",
   "execution_count": 224,
   "metadata": {},
   "outputs": [],
   "source": [
    "dict_aux ={\"first_dict\": {\"second_dict\": {\"third_dict\"}}}"
   ]
  },
  {
   "cell_type": "code",
   "execution_count": 3,
   "metadata": {},
   "outputs": [
    {
     "name": "stdout",
     "output_type": "stream",
     "text": [
      "Starting\n",
      "[0, 0, 0, 0] Next player: 1\n",
      "[1, 0, 0, 0] Next player: -1\n",
      "[[1, -1, 0, 0], [1, 0, -1, 0], [1, 0, 0, -1]]\n",
      "[1, 0, 0, 0] Next player: -1\n",
      "[1, -1, 0, 0] Next player: 1\n",
      "[1, -1, 1, 0] Next player: -1\n",
      "draw\n",
      "[1, -1, 1, -1] Next player: -1\n"
     ]
    }
   ],
   "source": [
    "game = Connect2()\n",
    "game.reset()\n",
    "print(\"Starting\")\n",
    "game.render()\n",
    "game.play(0)\n",
    "game.render()\n",
    "print(game._get_possible_next_states(game.board))\n",
    "game.render()\n",
    "game.play(1)\n",
    "game.render()\n",
    "game.play(2)\n",
    "game.render()\n",
    "game.play(3)\n",
    "game.render()\n",
    "\n"
   ]
  },
  {
   "cell_type": "code",
   "execution_count": 11,
   "metadata": {},
   "outputs": [
    {
     "data": {
      "text/plain": [
       "True"
      ]
     },
     "execution_count": 11,
     "metadata": {},
     "output_type": "execute_result"
    }
   ],
   "source": [
    "game._is_win(state=[1,1,0,-1])"
   ]
  },
  {
   "cell_type": "code",
   "execution_count": 4,
   "metadata": {},
   "outputs": [],
   "source": [
    "def UCB(w, n, N, c=2):\n",
    "    \"\"\"\n",
    "    w number of wins, n number of runs of the node, \n",
    "    N total number of simulations of the parent node, c exploration parameter\n",
    "    \"\"\"\n",
    "    out = w/n*c*(math.log(N)/n)**(0.5)\n",
    "    \n",
    "def invert_state(state: list):\n",
    "    \"\"\"From the perspective of player 1\"\"\"\n",
    "    if sum(np.array(state))!=0:\n",
    "        state=[-x for x in state]\n",
    "    return state\n",
    "\n",
    "class Node:\n",
    "    def __init__(self, state: list, parent=None, is_root=False, is_leaf=False, path_to_root=None):\n",
    "        self.state = state\n",
    "        self.is_root = is_root\n",
    "        self.parent = parent\n",
    "        self.is_leaf = is_leaf\n",
    "        self.children = []\n",
    "        self.ucp=0\n",
    "        self.wins=0\n",
    "        self.visits=0\n",
    "        self.path_to_root=path_to_root\n",
    "        \n",
    "    def __repr__(self):\n",
    "        return f\"State:{self.state}, is_root={self.is_root},is_leaf={self.is_leaf}\\n Visits:{self.visits}, Wins: {self.wins} \\n\" + f\"children:{[children_node.state for children_node in self.children]}\"\n",
    "        \n",
    "    def add_children(self, state):\n",
    "        key_state = str(state)\n",
    "        path_to_root = [self.path_to_root,key_state]\n",
    "        self.children.append(Node(state=state, is_root=False, is_leaf=True, path_to_root=path_to_root))\n",
    "        self.is_leaf=False\n",
    "        \n",
    "    def update_node(self, wins, visits):\n",
    "        self.wins+=wins\n",
    "        self.visits+=visits\n",
    "        \n",
    "\n",
    "    \n",
    "class MonteCarloTreeSearch:\n",
    "    \"\"\"Always from the perspective of one player\n",
    "    Start in state0 s0\n",
    "        is a leaf node?\n",
    "            no: select child that maximize UCB as current state (repeat)\n",
    "            yes:\n",
    "                \n",
    "            \n",
    "    \n",
    "    \n",
    "    \n",
    "    \"\"\"\n",
    "    def __init__(self, game: Game, number_simulations=4):\n",
    "        self.game = game\n",
    "        self.number_simulations=number_simulations\n",
    "\n",
    "    def run(self, root_state):\n",
    "        \"\"\"Main loop\"\"\"\n",
    "        root = Node(state=root_state, is_root=True, is_leaf=True)\n",
    "        for n in range(self.number_simulations):\n",
    "            node = root\n",
    "            if node.is_leaf and len(node.children)==0:\n",
    "                if node.visits==0:\n",
    "                    # rollout\n",
    "                    outcome = self.rollout(node.state)\n",
    "                    # update node\n",
    "                    node = self.update_node_based_on_outcome(outcome, node)\n",
    "\n",
    "                else:\n",
    "                    print(\"here\")\n",
    "                    # for each available action add children and run rollout\n",
    "                    possible_next_states = self.game._get_possible_next_states(state=node.state)\n",
    "                    for next_state in possible_next_states:\n",
    "                        node.add_children(state=next_state)\n",
    "            else:\n",
    "                #expand children\n",
    "                pass\n",
    "        \n",
    "        return node\n",
    "    \n",
    "    def rollout(self,state):\n",
    "        \"\"\"Monte Carlo simulation for the state\"\"\"\n",
    "        \n",
    "        self.game.init_custom(state=invert_state(state), player=1)\n",
    "        while True:\n",
    "            random_action = random.choice(self.game._get_possible_actions(self.game.board))\n",
    "            outcome = self.game.play_mcts(action=random_action)\n",
    "            # the outcome is the reward values (1 for winning, 0.5 draw, 0 lose and None while playing)\n",
    "            if outcome is not None:\n",
    "                self.game.reset()\n",
    "                break\n",
    "\n",
    "        return outcome\n",
    "    def update_node_based_on_outcome(self, outcome, node):\n",
    "        \"\"\"For now we only consider winning, not draw\"\"\"\n",
    "        if outcome == self.game.reward_win:\n",
    "            node.update_node(wins=1, visits=1)\n",
    "        else:\n",
    "            node.update_node(wins=0, visits=1)\n",
    "            \n",
    "        return node\n",
    "        \n",
    "    \n",
    "        \n",
    "\n",
    "        \n"
   ]
  },
  {
   "cell_type": "code",
   "execution_count": 5,
   "metadata": {},
   "outputs": [
    {
     "name": "stdout",
     "output_type": "stream",
     "text": [
      "player 1 is winner\n",
      "here\n"
     ]
    }
   ],
   "source": [
    "mcts = MonteCarloTreeSearch(game=Connect2())\n",
    "node=mcts.run(root_state=[0,0,0,0])"
   ]
  },
  {
   "cell_type": "code",
   "execution_count": 6,
   "metadata": {},
   "outputs": [
    {
     "data": {
      "text/plain": [
       "State:[1, 1, 0, -1], is_root=True,is_leaf=False\n",
       " Visits:1, Wins: 1 \n",
       "children:[[1, 1, 1, -1]]"
      ]
     },
     "execution_count": 6,
     "metadata": {},
     "output_type": "execute_result"
    }
   ],
   "source": [
    "node"
   ]
  },
  {
   "cell_type": "code",
   "execution_count": 189,
   "metadata": {},
   "outputs": [
    {
     "ename": "AttributeError",
     "evalue": "'MonteCarloTreeSearch' object has no attribute 'root_state'",
     "output_type": "error",
     "traceback": [
      "\u001b[0;31m---------------------------------------------------------------------------\u001b[0m",
      "\u001b[0;31mAttributeError\u001b[0m                            Traceback (most recent call last)",
      "\u001b[0;32m<ipython-input-189-97d986d89594>\u001b[0m in \u001b[0;36m<module>\u001b[0;34m\u001b[0m\n\u001b[0;32m----> 1\u001b[0;31m \u001b[0mmcts\u001b[0m\u001b[0;34m.\u001b[0m\u001b[0mroot_state\u001b[0m\u001b[0;34m\u001b[0m\u001b[0;34m\u001b[0m\u001b[0m\n\u001b[0m",
      "\u001b[0;31mAttributeError\u001b[0m: 'MonteCarloTreeSearch' object has no attribute 'root_state'"
     ]
    }
   ],
   "source": []
  },
  {
   "cell_type": "code",
   "execution_count": 217,
   "metadata": {},
   "outputs": [
    {
     "name": "stdout",
     "output_type": "stream",
     "text": [
      "State of the leaf node\n",
      "[0, -1, 0, 0] Next player: 1\n",
      "Action taken:  3\n",
      "[0, -1, 0, 1] Next player: 1\n",
      "1\n",
      "simulating\n",
      "Action taken:  2\n",
      "player 1 is winner\n",
      "[0, 1, -1, -1] Next player: 1\n",
      "2\n",
      "we have a winner, player 1\n"
     ]
    }
   ],
   "source": [
    "game = Connect2()\n",
    "root_node = Node(state=[0,0,0,0], is_root=True)\n",
    "mcts = MCTS(game=game, root_node=root_node)\n",
    "mcts.run()"
   ]
  },
  {
   "cell_type": "code",
   "execution_count": null,
   "metadata": {},
   "outputs": [],
   "source": []
  },
  {
   "cell_type": "code",
   "execution_count": 218,
   "metadata": {},
   "outputs": [
    {
     "data": {
      "text/plain": [
       "{'[1, 0, 0, 0]': State:[1, 0, 0, 0], is_root=False,is_leaf=True\n",
       "  Visits:0, Wins: 0 \n",
       " children:[],\n",
       " '[0, 1, 0, 0]': State:[0, 1, 0, 0], is_root=False,is_leaf=True\n",
       "  Visits:1, Wins: 1 \n",
       " children:[],\n",
       " '[0, 0, 1, 0]': State:[0, 0, 1, 0], is_root=False,is_leaf=True\n",
       "  Visits:0, Wins: 0 \n",
       " children:[],\n",
       " '[0, 0, 0, 1]': State:[0, 0, 0, 1], is_root=False,is_leaf=True\n",
       "  Visits:0, Wins: 0 \n",
       " children:[]}"
      ]
     },
     "execution_count": 218,
     "metadata": {},
     "output_type": "execute_result"
    }
   ],
   "source": [
    "mcts.root_node.children"
   ]
  },
  {
   "cell_type": "code",
   "execution_count": 222,
   "metadata": {},
   "outputs": [],
   "source": [
    "path_to_root=mcts.root_node.children['[0, 1, 0, 0]'].path_to_root"
   ]
  },
  {
   "cell_type": "code",
   "execution_count": 227,
   "metadata": {},
   "outputs": [
    {
     "name": "stdout",
     "output_type": "stream",
     "text": [
      "State:[0, 1, 0, 0], is_root=False,is_leaf=True\n",
      " Visits:1, Wins: 1 \n",
      "children:[]\n"
     ]
    }
   ],
   "source": [
    "for key_state in path_to_root[1:]:\n",
    "    print(mcts.root_node.children[key_state])"
   ]
  },
  {
   "cell_type": "code",
   "execution_count": null,
   "metadata": {},
   "outputs": [],
   "source": [
    "mcts.root_node[]"
   ]
  },
  {
   "cell_type": "code",
   "execution_count": 346,
   "metadata": {},
   "outputs": [
    {
     "ename": "AttributeError",
     "evalue": "'NoneType' object has no attribute 'children'",
     "output_type": "error",
     "traceback": [
      "\u001b[0;31m---------------------------------------------------------------------------\u001b[0m",
      "\u001b[0;31mAttributeError\u001b[0m                            Traceback (most recent call last)",
      "\u001b[0;32m<ipython-input-346-e9dfb30ebdbf>\u001b[0m in \u001b[0;36m<module>\u001b[0;34m\u001b[0m\n\u001b[0;32m----> 1\u001b[0;31m \u001b[0mleaf_node\u001b[0m\u001b[0;34m.\u001b[0m\u001b[0mchildren\u001b[0m\u001b[0;34m\u001b[0m\u001b[0;34m\u001b[0m\u001b[0m\n\u001b[0m",
      "\u001b[0;31mAttributeError\u001b[0m: 'NoneType' object has no attribute 'children'"
     ]
    }
   ],
   "source": [
    "leaf_node.children"
   ]
  },
  {
   "cell_type": "code",
   "execution_count": 347,
   "metadata": {},
   "outputs": [
    {
     "data": {
      "text/plain": [
       "{'[1, 0, 0, 0]': Key state:[1, 0, 0, 0], is_root=False,is_leaf=True,\n",
       " '[0, 1, 0, 0]': Key state:[0, 1, 0, 0], is_root=False,is_leaf=True,\n",
       " '[0, 0, 1, 0]': Key state:[0, 0, 1, 0], is_root=False,is_leaf=True,\n",
       " '[0, 0, 0, 1]': Key state:[0, 0, 0, 1], is_root=False,is_leaf=True}"
      ]
     },
     "execution_count": 347,
     "metadata": {},
     "output_type": "execute_result"
    }
   ],
   "source": [
    "mcts.nodes[str([0, 0, 0, 0])].children"
   ]
  },
  {
   "cell_type": "code",
   "execution_count": 143,
   "metadata": {},
   "outputs": [
    {
     "name": "stdout",
     "output_type": "stream",
     "text": [
      "(array([0, 1, 0, 0]), -1)\n",
      "(array([ 0, -1,  0,  0]), 1)\n"
     ]
    }
   ],
   "source": [
    "## explore game of connect2\n",
    "game = Connect2Game()\n",
    "print(game.get_next_state(board=[0, 0,0,0], player= 1, action=1))\n",
    "print(game.get_next_state(board=[0, 0,0,0], player= -1, action=1))"
   ]
  },
  {
   "cell_type": "code",
   "execution_count": 146,
   "metadata": {},
   "outputs": [
    {
     "data": {
      "text/plain": [
       "[1, 1, 1, 1]"
      ]
     },
     "execution_count": 146,
     "metadata": {},
     "output_type": "execute_result"
    }
   ],
   "source": [
    "game.get_valid_moves(board=[0,0,0,0])"
   ]
  },
  {
   "cell_type": "code",
   "execution_count": 58,
   "metadata": {},
   "outputs": [],
   "source": [
    "possible_values=[-1,0,1]\n",
    "state=[0, 0,0,0]"
   ]
  },
  {
   "cell_type": "code",
   "execution_count": null,
   "metadata": {},
   "outputs": [],
   "source": [
    "def _get_possible_next_states(state):\n",
    "    "
   ]
  },
  {
   "cell_type": "code",
   "execution_count": 139,
   "metadata": {},
   "outputs": [
    {
     "data": {
      "text/plain": [
       "[[-1, -1, -1, -1],\n",
       " [-1, -1, -1, 0],\n",
       " [-1, -1, -1, 1],\n",
       " [-1, -1, 0, -1],\n",
       " [-1, -1, 0, 0],\n",
       " [-1, -1, 0, 1],\n",
       " [-1, -1, 1, -1],\n",
       " [-1, -1, 1, 0],\n",
       " [-1, -1, 1, 1],\n",
       " [-1, 0, -1, -1],\n",
       " [-1, 0, -1, 0],\n",
       " [-1, 0, -1, 1],\n",
       " [-1, 0, 0, -1],\n",
       " [-1, 0, 0, 0],\n",
       " [-1, 0, 0, 1],\n",
       " [-1, 0, 1, -1],\n",
       " [-1, 0, 1, 0],\n",
       " [-1, 0, 1, 1],\n",
       " [-1, 1, -1, -1],\n",
       " [-1, 1, -1, 0],\n",
       " [-1, 1, -1, 1],\n",
       " [-1, 1, 0, -1],\n",
       " [-1, 1, 0, 0],\n",
       " [-1, 1, 0, 1],\n",
       " [-1, 1, 1, -1],\n",
       " [-1, 1, 1, 0],\n",
       " [-1, 1, 1, 1],\n",
       " [0, -1, -1, -1],\n",
       " [0, -1, -1, 0],\n",
       " [0, -1, -1, 1],\n",
       " [0, -1, 0, -1],\n",
       " [0, -1, 0, 0],\n",
       " [0, -1, 0, 1],\n",
       " [0, -1, 1, -1],\n",
       " [0, -1, 1, 0],\n",
       " [0, -1, 1, 1],\n",
       " [0, 0, -1, -1],\n",
       " [0, 0, -1, 0],\n",
       " [0, 0, -1, 1],\n",
       " [0, 0, 0, -1],\n",
       " [0, 0, 0, 0],\n",
       " [0, 0, 0, 1],\n",
       " [0, 0, 1, -1],\n",
       " [0, 0, 1, 0],\n",
       " [0, 0, 1, 1],\n",
       " [0, 1, -1, -1],\n",
       " [0, 1, -1, 0],\n",
       " [0, 1, -1, 1],\n",
       " [0, 1, 0, -1],\n",
       " [0, 1, 0, 0],\n",
       " [0, 1, 0, 1],\n",
       " [0, 1, 1, -1],\n",
       " [0, 1, 1, 0],\n",
       " [0, 1, 1, 1],\n",
       " [1, -1, -1, -1],\n",
       " [1, -1, -1, 0],\n",
       " [1, -1, -1, 1],\n",
       " [1, -1, 0, -1],\n",
       " [1, -1, 0, 0],\n",
       " [1, -1, 0, 1],\n",
       " [1, -1, 1, -1],\n",
       " [1, -1, 1, 0],\n",
       " [1, -1, 1, 1],\n",
       " [1, 0, -1, -1],\n",
       " [1, 0, -1, 0],\n",
       " [1, 0, -1, 1],\n",
       " [1, 0, 0, -1],\n",
       " [1, 0, 0, 0],\n",
       " [1, 0, 0, 1],\n",
       " [1, 0, 1, -1],\n",
       " [1, 0, 1, 0],\n",
       " [1, 0, 1, 1],\n",
       " [1, 1, -1, -1],\n",
       " [1, 1, -1, 0],\n",
       " [1, 1, -1, 1],\n",
       " [1, 1, 0, -1],\n",
       " [1, 1, 0, 0],\n",
       " [1, 1, 0, 1],\n",
       " [1, 1, 1, -1],\n",
       " [1, 1, 1, 0],\n",
       " [1, 1, 1, 1]]"
      ]
     },
     "execution_count": 139,
     "metadata": {},
     "output_type": "execute_result"
    }
   ],
   "source": [
    "[list(i) for i in product(possible_values, repeat=len(state))]"
   ]
  },
  {
   "cell_type": "code",
   "execution_count": 119,
   "metadata": {},
   "outputs": [],
   "source": [
    "\n",
    "# Python program to print all\n",
    "# the possible combinations\n",
    "  \n",
    "from itertools import permutations\n",
    "  \n",
    "# Get all combination of [1, 2, 3]\n",
    "# of length 3\n",
    "comb = permutations([1, 2, 3], )\n",
    "  \n",
    "for i in comb:\n",
    "    print(i)"
   ]
  }
 ],
 "metadata": {
  "kernelspec": {
   "display_name": "trading-bot",
   "language": "python",
   "name": "trading-bot"
  },
  "language_info": {
   "codemirror_mode": {
    "name": "ipython",
    "version": 3
   },
   "file_extension": ".py",
   "mimetype": "text/x-python",
   "name": "python",
   "nbconvert_exporter": "python",
   "pygments_lexer": "ipython3",
   "version": "3.8.5"
  }
 },
 "nbformat": 4,
 "nbformat_minor": 4
}
