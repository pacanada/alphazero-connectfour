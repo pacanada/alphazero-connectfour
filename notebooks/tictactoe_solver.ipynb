{
 "cells": [
  {
   "cell_type": "code",
   "execution_count": 208,
   "id": "ac9fe09c-5af5-460a-a877-c6e2adbbad40",
   "metadata": {},
   "outputs": [],
   "source": [
    "import numpy as np\n",
    "import json\n",
    "import random\n",
    "\n",
    "list_index_win = [[0, 1, 2], [3, 4, 5], [6, 7, 8], [0, 3, 6], [1, 4, 7], [2, 5, 8], [0, 4, 8], [2, 4, 6]]\n",
    "\n",
    "def get_reward(state):\n",
    "    for win_combination in list_index_win:\n",
    "        if sum(state[win_combination]) == 3: #*self.player:\n",
    "            return 1\n",
    "        elif sum(state[win_combination]) == -3: #*self.player:\n",
    "            return -1\n",
    "        elif len(np.where(state==0)[0]) == 0:\n",
    "            # Draw\n",
    "            return 0\n",
    "    return None\n",
    "\n",
    "def get_children(state, player):\n",
    "    children = []\n",
    "    available_positions = np.where(state==0)[0]\n",
    "    for position in available_positions:\n",
    "        new_state = state.copy()\n",
    "        new_state[position] = player\n",
    "        children.append(Node(new_state, -player))\n",
    "    return children\n",
    "class Node:\n",
    "    def __init__(self, state, player):\n",
    "        self.state = state\n",
    "        self.player = player\n",
    "        self.reward = get_reward(state)\n",
    "        self.children = [] if self.reward else get_children(state, player)\n",
    "    def __repr__(self):\n",
    "        return f\"State:{self.state}, player {self.player}, reward {self.reward}\"\n",
    "\n",
    "\n",
    "# recursion\n",
    "def minimax(node:Node, depth, maximize):\n",
    "    if depth ==0 or len(node.children)==0:\n",
    "        return node.reward\n",
    "    if maximize:\n",
    "        maxeva=-float(\"inf\")\n",
    "        for children in node.children:\n",
    "            eva = minimax(children, depth-1, False)\n",
    "            maxeva = max(eva, maxeva)\n",
    "        return maxeva\n",
    "    else:\n",
    "        mineva=+float(\"inf\")\n",
    "        for children in node.children:\n",
    "            eva = minimax(children, depth-1, True)\n",
    "            mineva = min(eva, mineva)\n",
    "\n",
    "        return mineva\n",
    "    \n",
    "\n",
    "    \n",
    "class TicTacToePlayerToJson:\n",
    "    def __init__(self, state, player):\n",
    "        self.tree = Node(state, player)\n",
    "        self.state_dict = {}\n",
    "        \n",
    "    def minimax_save_dict(self, node, depth, maximize):\n",
    "        if depth ==0 or len(node.children)==0:\n",
    "            self.state_dict[str(node.state)] = {\"minimax\": node.reward, \"next\": []}\n",
    "            return node.reward\n",
    "        if maximize:\n",
    "            maxeva=-float(\"inf\")\n",
    "            for children in node.children:\n",
    "                eva = self.minimax_save_dict(children, depth-1, False)\n",
    "                maxeva = max(eva, maxeva)\n",
    "            self.state_dict[str(node.state)] = {\"minimax\": maxeva, \"next\": [str(children.state) for children in node.children]}\n",
    "            return maxeva\n",
    "        else:\n",
    "            mineva=+float(\"inf\")\n",
    "            for children in node.children:\n",
    "                eva = self.minimax_save_dict(children, depth-1, True)\n",
    "                mineva = min(eva, mineva)\n",
    "            self.state_dict[str(node.state)] = {\"minimax\": mineva, \"next\": [str(children.state) for children in node.children]}\n",
    "\n",
    "            return mineva\n",
    "    def choose_best(self):\n",
    "        minimax_scores = []\n",
    "        for children in self.tree.children:\n",
    "            # maximize if player 1, minimize otherwise\n",
    "            maximize = self.tree.player==1\n",
    "            minimax_scores.append(self.minimax_save_dict(children,10, maximize))\n",
    "        if maximize:\n",
    "            # check position that is different\n",
    "            pos = np.argwhere(self.tree.state != self.tree.children[np.argmax(minimax_scores)].state)[0][0]\n",
    "            return pos, (self.tree.children[np.argmax(minimax_scores)], minimax_scores, self.tree.children)\n",
    "        else:\n",
    "            pos = np.argwhere(self.tree.state != self.tree.children[np.argmin(minimax_scores)].state)[0][0]\n",
    "            return pos, (self.tree.children[np.argmin(minimax_scores)], minimax_scores, self.tree.children)\n",
    "        \n",
    "class TicTacToeLookUpSolver():\n",
    "    def __init__(self, path):\n",
    "        self.minimax_dict = self.load_minimax_dict(path)\n",
    "        \n",
    "    def load_minimax_dict(self, path):\n",
    "        with open(path) as json_file:\n",
    "            minimax_dict = json.load(json_file)\n",
    "        return minimax_dict\n",
    "        \n",
    "    def convert_to_str(self, state):\n",
    "        return str(np.array(state))\n",
    "    \n",
    "    def convert_str_to_position(self, state_string):\n",
    "        return np.array(state_string.replace(\"[\",\"\").replace(\"]\",\"\").split(), dtype=int)\n",
    "    \n",
    "    def play(self, state, debug=False, difficulty=10):\n",
    "        state_str = self.convert_to_str(state)\n",
    "        # Perfect play, the minimax value of the position would be the minimax value of the child\n",
    "        candidates = [next_state for next_state in self.minimax_dict[state_str][\"next\"] if self.minimax_dict[self.convert_to_str(next_state)][\"minimax\"]==self.minimax_dict[state_str][\"minimax\"]]\n",
    "        pos = [np.argwhere(state != self.convert_str_to_position(next_state))[0][0] for next_state in candidates]\n",
    "        if debug:\n",
    "            print(\"Candidates:\", candidates)\n",
    "            print(\"Minimax\", self.minimax_dict[state_str][\"minimax\"])\n",
    "        if random.randint(0,10-difficulty)==0:\n",
    "            ret = random.choice(pos)\n",
    "\n",
    "        else:\n",
    "            print(\"Randomly chosen\")\n",
    "            ret = random.choice(np.argwhere(np.array(state)==0))[0]\n",
    "            \n",
    "        \n",
    "        return ret\n",
    "        \n",
    "        \n",
    "                \n",
    "# example                   \n",
    "#player = TicTacToePlayer(np.array([1,0,0,0,0,0,0,0,0]), 1)\n",
    "#player.choose_best()  \n",
    "#pos, (node, minimax_scores, children) = player.choose_best()\n",
    "#print(pos, node, minimax_scores, children)\n"
   ]
  },
  {
   "cell_type": "code",
   "execution_count": 209,
   "id": "2654d50e-e205-4f06-b1f7-010ed8b657d9",
   "metadata": {},
   "outputs": [
    {
     "data": {
      "text/plain": [
       "0"
      ]
     },
     "execution_count": 209,
     "metadata": {},
     "output_type": "execute_result"
    }
   ],
   "source": [
    "random.randint(0,0)"
   ]
  },
  {
   "cell_type": "code",
   "execution_count": 201,
   "id": "d02ef5f6-b6f4-47a3-a2a3-3394fbfab726",
   "metadata": {},
   "outputs": [
    {
     "data": {
      "text/plain": [
       "0"
      ]
     },
     "execution_count": 201,
     "metadata": {},
     "output_type": "execute_result"
    }
   ],
   "source": [
    "random.choice(np.argwhere(np.array([0,1,0, 0])==0))[0]"
   ]
  },
  {
   "cell_type": "code",
   "execution_count": 136,
   "id": "d432c44f-bd1f-4d1c-8263-df52ed18366b",
   "metadata": {},
   "outputs": [
    {
     "data": {
      "text/plain": [
       "array([ True,  True,  True])"
      ]
     },
     "execution_count": 136,
     "metadata": {},
     "output_type": "execute_result"
    }
   ],
   "source": [
    "np.array([0,0,0])==0"
   ]
  },
  {
   "cell_type": "code",
   "execution_count": 135,
   "id": "c22cfd07-2ef8-4795-ae75-1077c9ede4a3",
   "metadata": {},
   "outputs": [
    {
     "data": {
      "text/plain": [
       "1"
      ]
     },
     "execution_count": 135,
     "metadata": {},
     "output_type": "execute_result"
    }
   ],
   "source": [
    "random.randint(1,1)"
   ]
  },
  {
   "cell_type": "code",
   "execution_count": 210,
   "id": "1cdcb949-d725-48f4-94cc-ad2f881ed98a",
   "metadata": {},
   "outputs": [],
   "source": [
    "playerAI = TicTacToeLookUpSolver(path=\"../tictactoe_solver.json\")"
   ]
  },
  {
   "cell_type": "code",
   "execution_count": 211,
   "id": "d363e0d7-87ec-45ca-99c5-157087d85629",
   "metadata": {},
   "outputs": [],
   "source": [
    "#player.minimax_dict['[0 0 0 0 0 0 0 0 0]']"
   ]
  },
  {
   "cell_type": "code",
   "execution_count": 212,
   "id": "9ec9c70c-6b55-41cb-9bb4-ae8eae535ecf",
   "metadata": {},
   "outputs": [
    {
     "data": {
      "text/plain": [
       "4"
      ]
     },
     "execution_count": 212,
     "metadata": {},
     "output_type": "execute_result"
    }
   ],
   "source": [
    "playerAI.play([0,0,0,0,0,0,0,0,0])"
   ]
  },
  {
   "cell_type": "code",
   "execution_count": 213,
   "id": "41d19d59-3e35-4ced-8e4e-6cfb8221e786",
   "metadata": {},
   "outputs": [],
   "source": [
    "from src.game import Connect2, Game, TicTacToe"
   ]
  },
  {
   "cell_type": "code",
   "execution_count": 214,
   "id": "0b4b8bf6-800a-4dd8-a406-57b8b6de7eca",
   "metadata": {},
   "outputs": [
    {
     "data": {
      "text/plain": [
       "1"
      ]
     },
     "execution_count": 214,
     "metadata": {},
     "output_type": "execute_result"
    }
   ],
   "source": [
    "random.choice(np.argwhere(np.array(game.board)==0))[0]"
   ]
  },
  {
   "cell_type": "code",
   "execution_count": 216,
   "id": "f00fd714-929c-498d-b09c-268017bc29ca",
   "metadata": {},
   "outputs": [
    {
     "name": "stdout",
     "output_type": "stream",
     "text": [
      "Randomly chosen\n",
      "[0, 0, 0, 0, 0, 0, 0, 0, 0]\n",
      "<class 'list'>\n",
      "[[0 1 0]\n",
      " [0 0 0]\n",
      " [0 0 0]] Next player: -1\n"
     ]
    },
    {
     "name": "stdin",
     "output_type": "stream",
     "text": [
      "your action 4\n"
     ]
    },
    {
     "name": "stdout",
     "output_type": "stream",
     "text": [
      "[[ 0  1  0]\n",
      " [ 0 -1  0]\n",
      " [ 0  0  0]] Next player: 1\n",
      "Randomly chosen\n",
      "[0, 1, 0, 0, -1, 0, 0, 0, 0]\n",
      "<class 'list'>\n",
      "[[ 0  1  0]\n",
      " [ 0 -1  0]\n",
      " [ 1  0  0]] Next player: -1\n"
     ]
    },
    {
     "name": "stdin",
     "output_type": "stream",
     "text": [
      "your action 8\n"
     ]
    },
    {
     "name": "stdout",
     "output_type": "stream",
     "text": [
      "[[ 0  1  0]\n",
      " [ 0 -1  0]\n",
      " [ 1  0 -1]] Next player: 1\n",
      "Randomly chosen\n",
      "[0, 1, 0, 0, -1, 0, 1, 0, -1]\n",
      "<class 'list'>\n",
      "[[ 0  1  0]\n",
      " [ 0 -1  1]\n",
      " [ 1  0 -1]] Next player: -1\n"
     ]
    },
    {
     "name": "stdin",
     "output_type": "stream",
     "text": [
      "your action 0\n"
     ]
    },
    {
     "name": "stdout",
     "output_type": "stream",
     "text": [
      "[[-1  1  0]\n",
      " [ 0 -1  1]\n",
      " [ 1  0 -1]] Next player: 1\n",
      "Randomly chosen\n",
      "[-1, 1, 0, 0, -1, 1, 1, 0, -1]\n",
      "<class 'list'>\n",
      "[[-1  1  0]\n",
      " [ 1 -1  1]\n",
      " [ 1  0 -1]] Next player: -1\n"
     ]
    },
    {
     "ename": "KeyboardInterrupt",
     "evalue": "Interrupted by user",
     "output_type": "error",
     "traceback": [
      "\u001b[0;31m---------------------------------------------------------------------------\u001b[0m",
      "\u001b[0;31mKeyboardInterrupt\u001b[0m                         Traceback (most recent call last)",
      "Input \u001b[0;32mIn [216]\u001b[0m, in \u001b[0;36m<cell line: 3>\u001b[0;34m()\u001b[0m\n\u001b[1;32m      5\u001b[0m game\u001b[38;5;241m.\u001b[39mplay_mcts(playerAI\u001b[38;5;241m.\u001b[39mplay(state\u001b[38;5;241m=\u001b[39mgame\u001b[38;5;241m.\u001b[39mboard, difficulty\u001b[38;5;241m=\u001b[39m\u001b[38;5;241m0\u001b[39m))\n\u001b[1;32m      6\u001b[0m game\u001b[38;5;241m.\u001b[39mrender_table()\n\u001b[0;32m----> 7\u001b[0m input_player_1 \u001b[38;5;241m=\u001b[39m \u001b[38;5;28mint\u001b[39m(\u001b[38;5;28;43minput\u001b[39;49m\u001b[43m(\u001b[49m\u001b[38;5;124;43m\"\u001b[39;49m\u001b[38;5;124;43myour action\u001b[39;49m\u001b[38;5;124;43m\"\u001b[39;49m\u001b[43m)\u001b[49m)\n\u001b[1;32m      8\u001b[0m game\u001b[38;5;241m.\u001b[39mplay_mcts(input_player_1)\n\u001b[1;32m      9\u001b[0m game\u001b[38;5;241m.\u001b[39mrender_table()\n",
      "File \u001b[0;32m~/opt/anaconda3/envs/datascience/lib/python3.10/site-packages/ipykernel/kernelbase.py:1075\u001b[0m, in \u001b[0;36mKernel.raw_input\u001b[0;34m(self, prompt)\u001b[0m\n\u001b[1;32m   1071\u001b[0m \u001b[38;5;28;01mif\u001b[39;00m \u001b[38;5;129;01mnot\u001b[39;00m \u001b[38;5;28mself\u001b[39m\u001b[38;5;241m.\u001b[39m_allow_stdin:\n\u001b[1;32m   1072\u001b[0m     \u001b[38;5;28;01mraise\u001b[39;00m StdinNotImplementedError(\n\u001b[1;32m   1073\u001b[0m         \u001b[38;5;124m\"\u001b[39m\u001b[38;5;124mraw_input was called, but this frontend does not support input requests.\u001b[39m\u001b[38;5;124m\"\u001b[39m\n\u001b[1;32m   1074\u001b[0m     )\n\u001b[0;32m-> 1075\u001b[0m \u001b[38;5;28;01mreturn\u001b[39;00m \u001b[38;5;28;43mself\u001b[39;49m\u001b[38;5;241;43m.\u001b[39;49m\u001b[43m_input_request\u001b[49m\u001b[43m(\u001b[49m\n\u001b[1;32m   1076\u001b[0m \u001b[43m    \u001b[49m\u001b[38;5;28;43mstr\u001b[39;49m\u001b[43m(\u001b[49m\u001b[43mprompt\u001b[49m\u001b[43m)\u001b[49m\u001b[43m,\u001b[49m\n\u001b[1;32m   1077\u001b[0m \u001b[43m    \u001b[49m\u001b[38;5;28;43mself\u001b[39;49m\u001b[38;5;241;43m.\u001b[39;49m\u001b[43m_parent_ident\u001b[49m\u001b[43m[\u001b[49m\u001b[38;5;124;43m\"\u001b[39;49m\u001b[38;5;124;43mshell\u001b[39;49m\u001b[38;5;124;43m\"\u001b[39;49m\u001b[43m]\u001b[49m\u001b[43m,\u001b[49m\n\u001b[1;32m   1078\u001b[0m \u001b[43m    \u001b[49m\u001b[38;5;28;43mself\u001b[39;49m\u001b[38;5;241;43m.\u001b[39;49m\u001b[43mget_parent\u001b[49m\u001b[43m(\u001b[49m\u001b[38;5;124;43m\"\u001b[39;49m\u001b[38;5;124;43mshell\u001b[39;49m\u001b[38;5;124;43m\"\u001b[39;49m\u001b[43m)\u001b[49m\u001b[43m,\u001b[49m\n\u001b[1;32m   1079\u001b[0m \u001b[43m    \u001b[49m\u001b[43mpassword\u001b[49m\u001b[38;5;241;43m=\u001b[39;49m\u001b[38;5;28;43;01mFalse\u001b[39;49;00m\u001b[43m,\u001b[49m\n\u001b[1;32m   1080\u001b[0m \u001b[43m\u001b[49m\u001b[43m)\u001b[49m\n",
      "File \u001b[0;32m~/opt/anaconda3/envs/datascience/lib/python3.10/site-packages/ipykernel/kernelbase.py:1120\u001b[0m, in \u001b[0;36mKernel._input_request\u001b[0;34m(self, prompt, ident, parent, password)\u001b[0m\n\u001b[1;32m   1117\u001b[0m             \u001b[38;5;28;01mbreak\u001b[39;00m\n\u001b[1;32m   1118\u001b[0m \u001b[38;5;28;01mexcept\u001b[39;00m \u001b[38;5;167;01mKeyboardInterrupt\u001b[39;00m:\n\u001b[1;32m   1119\u001b[0m     \u001b[38;5;66;03m# re-raise KeyboardInterrupt, to truncate traceback\u001b[39;00m\n\u001b[0;32m-> 1120\u001b[0m     \u001b[38;5;28;01mraise\u001b[39;00m \u001b[38;5;167;01mKeyboardInterrupt\u001b[39;00m(\u001b[38;5;124m\"\u001b[39m\u001b[38;5;124mInterrupted by user\u001b[39m\u001b[38;5;124m\"\u001b[39m) \u001b[38;5;28;01mfrom\u001b[39;00m \u001b[38;5;28mNone\u001b[39m\n\u001b[1;32m   1121\u001b[0m \u001b[38;5;28;01mexcept\u001b[39;00m \u001b[38;5;167;01mException\u001b[39;00m:\n\u001b[1;32m   1122\u001b[0m     \u001b[38;5;28mself\u001b[39m\u001b[38;5;241m.\u001b[39mlog\u001b[38;5;241m.\u001b[39mwarning(\u001b[38;5;124m\"\u001b[39m\u001b[38;5;124mInvalid Message:\u001b[39m\u001b[38;5;124m\"\u001b[39m, exc_info\u001b[38;5;241m=\u001b[39m\u001b[38;5;28;01mTrue\u001b[39;00m)\n",
      "\u001b[0;31mKeyboardInterrupt\u001b[0m: Interrupted by user"
     ]
    }
   ],
   "source": [
    "game=TicTacToe()\n",
    "game.reset()\n",
    "while True:\n",
    "\n",
    "    game.play_mcts(playerAI.play(state=game.board, difficulty=0))\n",
    "    game.render_table()\n",
    "    input_player_1 = int(input(\"your action\"))\n",
    "    game.play_mcts(input_player_1)\n",
    "    game.render_table()\n",
    "    "
   ]
  },
  {
   "cell_type": "code",
   "execution_count": 113,
   "id": "c2f0a7c2-86e1-4f84-b35f-8bf45046c3b7",
   "metadata": {},
   "outputs": [
    {
     "name": "stdin",
     "output_type": "stream",
     "text": [
      "your action 4\n"
     ]
    },
    {
     "name": "stdout",
     "output_type": "stream",
     "text": [
      "[[0 0 0]\n",
      " [0 1 0]\n",
      " [0 0 0]] Next player: -1\n",
      "[[ 0  0  0]\n",
      " [ 0  1  0]\n",
      " [ 0  0 -1]] Next player: 1\n"
     ]
    },
    {
     "name": "stdin",
     "output_type": "stream",
     "text": [
      "your action 1\n"
     ]
    },
    {
     "name": "stdout",
     "output_type": "stream",
     "text": [
      "[[ 0  1  0]\n",
      " [ 0  1  0]\n",
      " [ 0  0 -1]] Next player: -1\n",
      "[[ 0  1  0]\n",
      " [ 0  1  0]\n",
      " [ 0 -1 -1]] Next player: 1\n"
     ]
    },
    {
     "name": "stdin",
     "output_type": "stream",
     "text": [
      "your action 6\n"
     ]
    },
    {
     "name": "stdout",
     "output_type": "stream",
     "text": [
      "[[ 0  1  0]\n",
      " [ 0  1  0]\n",
      " [ 1 -1 -1]] Next player: -1\n",
      "[[ 0  1 -1]\n",
      " [ 0  1  0]\n",
      " [ 1 -1 -1]] Next player: 1\n"
     ]
    },
    {
     "name": "stdin",
     "output_type": "stream",
     "text": [
      "your action 0\n"
     ]
    },
    {
     "name": "stdout",
     "output_type": "stream",
     "text": [
      "[[ 1  1 -1]\n",
      " [ 0  1  0]\n",
      " [ 1 -1 -1]] Next player: -1\n",
      "[[ 1  1 -1]\n",
      " [ 0  1 -1]\n",
      " [ 1 -1 -1]] Next player: 1\n"
     ]
    },
    {
     "ename": "KeyboardInterrupt",
     "evalue": "Interrupted by user",
     "output_type": "error",
     "traceback": [
      "\u001b[0;31m---------------------------------------------------------------------------\u001b[0m",
      "\u001b[0;31mKeyboardInterrupt\u001b[0m                         Traceback (most recent call last)",
      "Input \u001b[0;32mIn [113]\u001b[0m, in \u001b[0;36m<cell line: 3>\u001b[0;34m()\u001b[0m\n\u001b[1;32m      2\u001b[0m game\u001b[38;5;241m.\u001b[39mreset()\n\u001b[1;32m      3\u001b[0m \u001b[38;5;28;01mwhile\u001b[39;00m \u001b[38;5;28;01mTrue\u001b[39;00m:\n\u001b[0;32m----> 4\u001b[0m     input_player_1 \u001b[38;5;241m=\u001b[39m \u001b[38;5;28mint\u001b[39m(\u001b[38;5;28;43minput\u001b[39;49m\u001b[43m(\u001b[49m\u001b[38;5;124;43m\"\u001b[39;49m\u001b[38;5;124;43myour action\u001b[39;49m\u001b[38;5;124;43m\"\u001b[39;49m\u001b[43m)\u001b[49m)\n\u001b[1;32m      5\u001b[0m     game\u001b[38;5;241m.\u001b[39mplay_mcts(input_player_1)\n\u001b[1;32m      6\u001b[0m     game\u001b[38;5;241m.\u001b[39mrender_table()\n",
      "File \u001b[0;32m~/opt/anaconda3/envs/datascience/lib/python3.10/site-packages/ipykernel/kernelbase.py:1075\u001b[0m, in \u001b[0;36mKernel.raw_input\u001b[0;34m(self, prompt)\u001b[0m\n\u001b[1;32m   1071\u001b[0m \u001b[38;5;28;01mif\u001b[39;00m \u001b[38;5;129;01mnot\u001b[39;00m \u001b[38;5;28mself\u001b[39m\u001b[38;5;241m.\u001b[39m_allow_stdin:\n\u001b[1;32m   1072\u001b[0m     \u001b[38;5;28;01mraise\u001b[39;00m StdinNotImplementedError(\n\u001b[1;32m   1073\u001b[0m         \u001b[38;5;124m\"\u001b[39m\u001b[38;5;124mraw_input was called, but this frontend does not support input requests.\u001b[39m\u001b[38;5;124m\"\u001b[39m\n\u001b[1;32m   1074\u001b[0m     )\n\u001b[0;32m-> 1075\u001b[0m \u001b[38;5;28;01mreturn\u001b[39;00m \u001b[38;5;28;43mself\u001b[39;49m\u001b[38;5;241;43m.\u001b[39;49m\u001b[43m_input_request\u001b[49m\u001b[43m(\u001b[49m\n\u001b[1;32m   1076\u001b[0m \u001b[43m    \u001b[49m\u001b[38;5;28;43mstr\u001b[39;49m\u001b[43m(\u001b[49m\u001b[43mprompt\u001b[49m\u001b[43m)\u001b[49m\u001b[43m,\u001b[49m\n\u001b[1;32m   1077\u001b[0m \u001b[43m    \u001b[49m\u001b[38;5;28;43mself\u001b[39;49m\u001b[38;5;241;43m.\u001b[39;49m\u001b[43m_parent_ident\u001b[49m\u001b[43m[\u001b[49m\u001b[38;5;124;43m\"\u001b[39;49m\u001b[38;5;124;43mshell\u001b[39;49m\u001b[38;5;124;43m\"\u001b[39;49m\u001b[43m]\u001b[49m\u001b[43m,\u001b[49m\n\u001b[1;32m   1078\u001b[0m \u001b[43m    \u001b[49m\u001b[38;5;28;43mself\u001b[39;49m\u001b[38;5;241;43m.\u001b[39;49m\u001b[43mget_parent\u001b[49m\u001b[43m(\u001b[49m\u001b[38;5;124;43m\"\u001b[39;49m\u001b[38;5;124;43mshell\u001b[39;49m\u001b[38;5;124;43m\"\u001b[39;49m\u001b[43m)\u001b[49m\u001b[43m,\u001b[49m\n\u001b[1;32m   1079\u001b[0m \u001b[43m    \u001b[49m\u001b[43mpassword\u001b[49m\u001b[38;5;241;43m=\u001b[39;49m\u001b[38;5;28;43;01mFalse\u001b[39;49;00m\u001b[43m,\u001b[49m\n\u001b[1;32m   1080\u001b[0m \u001b[43m\u001b[49m\u001b[43m)\u001b[49m\n",
      "File \u001b[0;32m~/opt/anaconda3/envs/datascience/lib/python3.10/site-packages/ipykernel/kernelbase.py:1120\u001b[0m, in \u001b[0;36mKernel._input_request\u001b[0;34m(self, prompt, ident, parent, password)\u001b[0m\n\u001b[1;32m   1117\u001b[0m             \u001b[38;5;28;01mbreak\u001b[39;00m\n\u001b[1;32m   1118\u001b[0m \u001b[38;5;28;01mexcept\u001b[39;00m \u001b[38;5;167;01mKeyboardInterrupt\u001b[39;00m:\n\u001b[1;32m   1119\u001b[0m     \u001b[38;5;66;03m# re-raise KeyboardInterrupt, to truncate traceback\u001b[39;00m\n\u001b[0;32m-> 1120\u001b[0m     \u001b[38;5;28;01mraise\u001b[39;00m \u001b[38;5;167;01mKeyboardInterrupt\u001b[39;00m(\u001b[38;5;124m\"\u001b[39m\u001b[38;5;124mInterrupted by user\u001b[39m\u001b[38;5;124m\"\u001b[39m) \u001b[38;5;28;01mfrom\u001b[39;00m \u001b[38;5;28mNone\u001b[39m\n\u001b[1;32m   1121\u001b[0m \u001b[38;5;28;01mexcept\u001b[39;00m \u001b[38;5;167;01mException\u001b[39;00m:\n\u001b[1;32m   1122\u001b[0m     \u001b[38;5;28mself\u001b[39m\u001b[38;5;241m.\u001b[39mlog\u001b[38;5;241m.\u001b[39mwarning(\u001b[38;5;124m\"\u001b[39m\u001b[38;5;124mInvalid Message:\u001b[39m\u001b[38;5;124m\"\u001b[39m, exc_info\u001b[38;5;241m=\u001b[39m\u001b[38;5;28;01mTrue\u001b[39;00m)\n",
      "\u001b[0;31mKeyboardInterrupt\u001b[0m: Interrupted by user"
     ]
    }
   ],
   "source": [
    "game=TicTacToe()\n",
    "game.reset()\n",
    "while True:\n",
    "    input_player_1 = int(input(\"your action\"))\n",
    "    game.play_mcts(input_player_1)\n",
    "    game.render_table()\n",
    "    game.play_mcts(playerAI.play(game.board))\n",
    "    game.render_table()"
   ]
  },
  {
   "cell_type": "code",
   "execution_count": 26,
   "id": "a1799844-bfee-4673-a580-c396cf0a0924",
   "metadata": {},
   "outputs": [],
   "source": [
    "# outcome, we want a dict with states and "
   ]
  },
  {
   "cell_type": "code",
   "execution_count": 32,
   "id": "80963140-ed99-4227-8dd8-499c44b346d9",
   "metadata": {},
   "outputs": [],
   "source": [
    "player = TicTacToePlayerToJson(np.array([0,0,0,0,0,0,0,0,0]), 1)"
   ]
  },
  {
   "cell_type": "code",
   "execution_count": 33,
   "id": "eb465107-1ca6-4908-86e1-21f10939a634",
   "metadata": {},
   "outputs": [
    {
     "data": {
      "text/plain": [
       "{}"
      ]
     },
     "execution_count": 33,
     "metadata": {},
     "output_type": "execute_result"
    }
   ],
   "source": [
    "player.state_dict"
   ]
  },
  {
   "cell_type": "code",
   "execution_count": 57,
   "id": "8c4ab1af-224f-4897-882b-690e88bd2ac5",
   "metadata": {},
   "outputs": [
    {
     "ename": "AttributeError",
     "evalue": "'TicTacToeLookUpSolver' object has no attribute 'choose_best'",
     "output_type": "error",
     "traceback": [
      "\u001b[0;31m---------------------------------------------------------------------------\u001b[0m",
      "\u001b[0;31mAttributeError\u001b[0m                            Traceback (most recent call last)",
      "Input \u001b[0;32mIn [57]\u001b[0m, in \u001b[0;36m<cell line: 1>\u001b[0;34m()\u001b[0m\n\u001b[0;32m----> 1\u001b[0m \u001b[43mplayer\u001b[49m\u001b[38;5;241;43m.\u001b[39;49m\u001b[43mchoose_best\u001b[49m()\n",
      "\u001b[0;31mAttributeError\u001b[0m: 'TicTacToeLookUpSolver' object has no attribute 'choose_best'"
     ]
    }
   ],
   "source": [
    "player.choose_best()"
   ]
  },
  {
   "cell_type": "code",
   "execution_count": 56,
   "id": "fb5ac977-6262-4a24-8e13-da4ee24f938b",
   "metadata": {},
   "outputs": [],
   "source": [
    "import pickle\n",
    "with open(f\"tree_tictactoe_old.pickle\", \"wb\") as f:\n",
    "    pickle.dump(player, f)"
   ]
  },
  {
   "cell_type": "code",
   "execution_count": 18,
   "id": "17f1b847-faf5-453f-b762-b9276e3a361c",
   "metadata": {},
   "outputs": [],
   "source": [
    "import json"
   ]
  },
  {
   "cell_type": "code",
   "execution_count": 35,
   "id": "67189146-dea4-496f-b29f-3bf3f99cf0a2",
   "metadata": {},
   "outputs": [],
   "source": [
    "with open('tictactoe.json', 'w') as outfile:\n",
    "    json.dump(player.state_dict, outfile)"
   ]
  },
  {
   "cell_type": "code",
   "execution_count": 19,
   "id": "611544df-7c2e-4a41-83d7-8ad07798b61a",
   "metadata": {},
   "outputs": [
    {
     "ename": "TypeError",
     "evalue": "'module' object is not callable",
     "output_type": "error",
     "traceback": [
      "\u001b[0;31m---------------------------------------------------------------------------\u001b[0m",
      "\u001b[0;31mTypeError\u001b[0m                                 Traceback (most recent call last)",
      "Input \u001b[0;32mIn [19]\u001b[0m, in \u001b[0;36m<cell line: 1>\u001b[0;34m()\u001b[0m\n\u001b[0;32m----> 1\u001b[0m \u001b[43mjson\u001b[49m\u001b[43m(\u001b[49m\u001b[43mplayer\u001b[49m\u001b[38;5;241;43m.\u001b[39;49m\u001b[43mstate_dict\u001b[49m\u001b[43m)\u001b[49m\u001b[38;5;241m.\u001b[39mdumps(\u001b[38;5;124m\"\u001b[39m\u001b[38;5;124mtictacplayer.json\u001b[39m\u001b[38;5;124m\"\u001b[39m)\n",
      "\u001b[0;31mTypeError\u001b[0m: 'module' object is not callable"
     ]
    }
   ],
   "source": [
    "json(player.state_dict).dumps(\"tictacplayer.json\")"
   ]
  },
  {
   "cell_type": "code",
   "execution_count": 14,
   "id": "e0bd9fcd-839d-4e79-9864-485024da5f82",
   "metadata": {},
   "outputs": [
    {
     "data": {
      "text/plain": [
       "(2,\n",
       " (State:[ 1 -1  1  0  0  0  0  0  0], player -1, reward None,\n",
       "  [0, 0, 0, 0, 0, 0, 0],\n",
       "  [State:[ 1 -1  1  0  0  0  0  0  0], player -1, reward None,\n",
       "   State:[ 1 -1  0  1  0  0  0  0  0], player -1, reward None,\n",
       "   State:[ 1 -1  0  0  1  0  0  0  0], player -1, reward None,\n",
       "   State:[ 1 -1  0  0  0  1  0  0  0], player -1, reward None,\n",
       "   State:[ 1 -1  0  0  0  0  1  0  0], player -1, reward None,\n",
       "   State:[ 1 -1  0  0  0  0  0  1  0], player -1, reward None,\n",
       "   State:[ 1 -1  0  0  0  0  0  0  1], player -1, reward None]))"
      ]
     },
     "execution_count": 14,
     "metadata": {},
     "output_type": "execute_result"
    }
   ],
   "source": [
    "player.choose_best()"
   ]
  },
  {
   "cell_type": "code",
   "execution_count": 2,
   "id": "bbe752af-0ee9-49f2-934a-a7c3b6b57130",
   "metadata": {},
   "outputs": [],
   "source": [
    "import pickle"
   ]
  },
  {
   "cell_type": "code",
   "execution_count": 41,
   "id": "ca95cf60-66df-4cdf-8ca3-773c95826797",
   "metadata": {},
   "outputs": [],
   "source": [
    "import numpy as np\n",
    "\n",
    "list_index_win = [[0, 1, 2], [3, 4, 5], [6, 7, 8], [0, 3, 6], [1, 4, 7], [2, 5, 8], [0, 4, 8], [2, 4, 6]]\n",
    "\n",
    "class Node:\n",
    "    def __init__(self, state, player):\n",
    "        self.state = state\n",
    "        self.player = player\n",
    "        self.children = self.get_children(state)\n",
    "    def __repr__(self):\n",
    "        return f\"State:{self.state}, player {self.player}, reward {self.reward}\"\n",
    "    def get_children(self, state):\n",
    "        children = []\n",
    "        available_positions = np.where(state==0)[0]\n",
    "        self.reward = self.get_reward()\n",
    "        if self.reward:\n",
    "            # empty children\n",
    "            pass\n",
    "        elif len(available_positions)==0 and self.reward is None:\n",
    "            self.reward = 0\n",
    "        else: \n",
    "            for position in available_positions:\n",
    "                new_state = state.copy()\n",
    "                new_state[position] = self.player\n",
    "                children.append(Node(new_state, -self.player))\n",
    "        return children\n",
    "                \n",
    "    def get_reward(self):\n",
    "        for win_combination in list_index_win:\n",
    "            if sum(self.state[win_combination]) == 3: #*self.player:\n",
    "                return 1\n",
    "            elif sum(self.state[win_combination]) == -3: #*self.player:\n",
    "                return -1\n",
    "        return None\n",
    "\n",
    "# recursion\n",
    "def minimax(node:Node, depth, maximize):\n",
    "    if depth ==0 or len(node.children)==0:\n",
    "        return node.reward\n",
    "    if maximize:\n",
    "        maxeva=-float(\"inf\")\n",
    "        for children in node.children:\n",
    "            eva = minimax(children, depth-1, False)\n",
    "            maxeva = max(eva, maxeva)\n",
    "        return maxeva\n",
    "    else:\n",
    "        mineva=+float(\"inf\")\n",
    "        for children in node.children:\n",
    "            eva = minimax(children, depth-1, True)\n",
    "            mineva = min(eva, mineva)\n",
    "\n",
    "        return mineva\n",
    "    \n",
    "class TicTacToePlayer:\n",
    "    def __init__(self, state, player):\n",
    "        self.tree = Node(state, player)\n",
    "    def choose_best(self):\n",
    "        minimax_scores = []\n",
    "        for children in self.tree.children:\n",
    "            # maximize if player 1, minimize otherwise\n",
    "            maximize = self.tree.player==1\n",
    "            minimax_scores.append(minimax(children, 10, maximize))\n",
    "        if maximize:\n",
    "            # check position that is different\n",
    "            pos = np.argwhere(self.tree.state != self.tree.children[np.argmax(minimax_scores)].state)[0][0]\n",
    "            return pos, (self.tree.children[np.argmax(minimax_scores)], minimax_scores, self.tree.children)\n",
    "        else:\n",
    "            pos = np.argwhere(self.tree.state != self.tree.children[np.argmin(minimax_scores)].state)[0][0]\n",
    "            return pos, (self.tree.children[np.argmin(minimax_scores)], minimax_scores, self.tree.children)\n",
    "                \n",
    "                    \n",
    "            \n",
    "        \n",
    "    \n",
    "        \n",
    "    "
   ]
  },
  {
   "cell_type": "code",
   "execution_count": 8,
   "id": "351caa87-7146-4c37-bbb2-d4d64f0a5966",
   "metadata": {},
   "outputs": [
    {
     "data": {
      "text/plain": [
       "1"
      ]
     },
     "execution_count": 8,
     "metadata": {},
     "output_type": "execute_result"
    }
   ],
   "source": [
    "np.argwhere(np.array([-1,1]) != np.array([-1,0]))[0][0]"
   ]
  },
  {
   "cell_type": "code",
   "execution_count": 42,
   "id": "6e0a0929-3f17-498c-bf3b-6261330f4867",
   "metadata": {},
   "outputs": [
    {
     "name": "stdout",
     "output_type": "stream",
     "text": [
      "CPU times: user 22.3 s, sys: 570 ms, total: 22.9 s\n",
      "Wall time: 23.1 s\n"
     ]
    }
   ],
   "source": [
    "%time player = TicTacToePlayer(np.array([0,0,0,0,0,0,0,0,0]), 1)"
   ]
  },
  {
   "cell_type": "code",
   "execution_count": 32,
   "id": "b4d08845-49db-432a-b673-11fb1903b13f",
   "metadata": {},
   "outputs": [
    {
     "data": {
      "text/plain": [
       "(0,\n",
       " (State:[1 0 0 0 0 0 0 0 0], player -1, reward None,\n",
       "  [1, 1, 1, 1, 0, 1, 1, 1, 1],\n",
       "  [State:[1 0 0 0 0 0 0 0 0], player -1, reward None,\n",
       "   State:[0 1 0 0 0 0 0 0 0], player -1, reward None,\n",
       "   State:[0 0 1 0 0 0 0 0 0], player -1, reward None,\n",
       "   State:[0 0 0 1 0 0 0 0 0], player -1, reward None,\n",
       "   State:[0 0 0 0 1 0 0 0 0], player -1, reward None,\n",
       "   State:[0 0 0 0 0 1 0 0 0], player -1, reward None,\n",
       "   State:[0 0 0 0 0 0 1 0 0], player -1, reward None,\n",
       "   State:[0 0 0 0 0 0 0 1 0], player -1, reward None,\n",
       "   State:[0 0 0 0 0 0 0 0 1], player -1, reward None]))"
      ]
     },
     "execution_count": 32,
     "metadata": {},
     "output_type": "execute_result"
    }
   ],
   "source": [
    "player.choose_best()"
   ]
  },
  {
   "cell_type": "code",
   "execution_count": 135,
   "id": "266b315a-2fbd-4add-89d6-a4db11e3d1c9",
   "metadata": {},
   "outputs": [
    {
     "data": {
      "text/plain": [
       "array([[0, 0, 0],\n",
       "       [0, 1, 0],\n",
       "       [0, 0, 0]])"
      ]
     },
     "execution_count": 135,
     "metadata": {},
     "output_type": "execute_result"
    }
   ],
   "source": [
    "state = np.array([0,0,0,0,1,0,0,0,0])\n",
    "state.reshape(3,3)"
   ]
  },
  {
   "cell_type": "code",
   "execution_count": 136,
   "id": "e55bf15e-2f15-4503-b4e5-669eec42377c",
   "metadata": {},
   "outputs": [],
   "source": [
    "tree = Node(state, -1)"
   ]
  },
  {
   "cell_type": "code",
   "execution_count": 43,
   "id": "c69071cc-ef1c-4812-9486-b69a893697a3",
   "metadata": {},
   "outputs": [],
   "source": [
    "with open(f\"tree_tictactoe_old.pickle\", \"wb\") as f:\n",
    "    pickle.dump(player, f)"
   ]
  },
  {
   "cell_type": "code",
   "execution_count": 137,
   "id": "37fc91d8-34bd-4513-b99a-cb833b830bbb",
   "metadata": {},
   "outputs": [
    {
     "data": {
      "text/plain": [
       "[State:[-1  0  0  0  1  0  0  0  0], player 1, reward None,\n",
       " State:[ 0 -1  0  0  1  0  0  0  0], player 1, reward None,\n",
       " State:[ 0  0 -1  0  1  0  0  0  0], player 1, reward None,\n",
       " State:[ 0  0  0 -1  1  0  0  0  0], player 1, reward None,\n",
       " State:[ 0  0  0  0  1 -1  0  0  0], player 1, reward None,\n",
       " State:[ 0  0  0  0  1  0 -1  0  0], player 1, reward None,\n",
       " State:[ 0  0  0  0  1  0  0 -1  0], player 1, reward None,\n",
       " State:[ 0  0  0  0  1  0  0  0 -1], player 1, reward None]"
      ]
     },
     "execution_count": 137,
     "metadata": {},
     "output_type": "execute_result"
    }
   ],
   "source": [
    "tree.children"
   ]
  },
  {
   "cell_type": "code",
   "execution_count": 138,
   "id": "a6f353ac-edb2-4b4c-b9dd-4fe54e4346a3",
   "metadata": {},
   "outputs": [
    {
     "name": "stdout",
     "output_type": "stream",
     "text": [
      "State:[-1  1  0  0  1  0  0  0  0], player -1, reward None 0\n",
      "State:[-1  0  1  0  1  0  0  0  0], player -1, reward None 0\n",
      "State:[-1  0  0  1  1  0  0  0  0], player -1, reward None 0\n",
      "State:[-1  0  0  0  1  1  0  0  0], player -1, reward None 0\n",
      "State:[-1  0  0  0  1  0  1  0  0], player -1, reward None 0\n",
      "State:[-1  0  0  0  1  0  0  1  0], player -1, reward None 0\n",
      "State:[-1  0  0  0  1  0  0  0  1], player -1, reward None 0\n"
     ]
    }
   ],
   "source": [
    "for children in tree.children[0].children:\n",
    "    print(children, minimax(children, 10, children.player==1))"
   ]
  },
  {
   "cell_type": "code",
   "execution_count": 98,
   "id": "0e8feb90-449b-4ff4-bc41-0f8c8175a4cd",
   "metadata": {},
   "outputs": [],
   "source": [
    "tree.children[0].minmax_score"
   ]
  },
  {
   "cell_type": "code",
   "execution_count": 10,
   "id": "1032a41a-0924-44b5-a646-f5c99646ef45",
   "metadata": {},
   "outputs": [
    {
     "data": {
      "text/plain": [
       "array([0, 1])"
      ]
     },
     "execution_count": 10,
     "metadata": {},
     "output_type": "execute_result"
    }
   ],
   "source": [
    "np.where(np.array([0,0])==0)[0]"
   ]
  },
  {
   "cell_type": "code",
   "execution_count": 5,
   "id": "331010f6-797a-4dfd-8026-f81d50552dea",
   "metadata": {},
   "outputs": [
    {
     "data": {
      "text/plain": [
       "2"
      ]
     },
     "execution_count": 5,
     "metadata": {},
     "output_type": "execute_result"
    }
   ],
   "source": [
    "max(2,1)"
   ]
  }
 ],
 "metadata": {
  "kernelspec": {
   "display_name": "Python 3 (ipykernel)",
   "language": "python",
   "name": "python3"
  },
  "language_info": {
   "codemirror_mode": {
    "name": "ipython",
    "version": 3
   },
   "file_extension": ".py",
   "mimetype": "text/x-python",
   "name": "python",
   "nbconvert_exporter": "python",
   "pygments_lexer": "ipython3",
   "version": "3.10.0"
  }
 },
 "nbformat": 4,
 "nbformat_minor": 5
}
