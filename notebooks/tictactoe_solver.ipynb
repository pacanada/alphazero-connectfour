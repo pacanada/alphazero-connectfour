{
 "cells": [
  {
   "cell_type": "code",
   "execution_count": 63,
   "id": "bbe752af-0ee9-49f2-934a-a7c3b6b57130",
   "metadata": {},
   "outputs": [],
   "source": [
    "import pickle"
   ]
  },
  {
   "cell_type": "code",
   "execution_count": 177,
   "id": "ca95cf60-66df-4cdf-8ca3-773c95826797",
   "metadata": {},
   "outputs": [],
   "source": [
    "import numpy as np\n",
    "\n",
    "list_index_win = [[0, 1, 2], [3, 4, 5], [6, 7, 8], [0, 3, 6], [1, 4, 7], [2, 5, 8], [0, 4, 8], [2, 4, 6]]\n",
    "\n",
    "class Node:\n",
    "    def __init__(self, state, player):\n",
    "        self.state = state\n",
    "        self.player = player\n",
    "        self.children = self.get_children(state)\n",
    "    def __repr__(self):\n",
    "        return f\"State:{self.state}, player {self.player}, reward {self.reward}\"\n",
    "    def get_children(self, state):\n",
    "        children = []\n",
    "        available_positions = np.where(state==0)[0]\n",
    "        self.reward = self.get_reward()\n",
    "        if self.reward:\n",
    "            # empty children\n",
    "            pass\n",
    "        elif len(available_positions)==0 and self.reward is None:\n",
    "            self.reward = 0\n",
    "        else: \n",
    "            for position in available_positions:\n",
    "                new_state = state.copy()\n",
    "                new_state[position] = self.player\n",
    "                children.append(Node(new_state, -self.player))\n",
    "        return children\n",
    "                \n",
    "    def get_reward(self):\n",
    "        for win_combination in list_index_win:\n",
    "            if sum(self.state[win_combination]) == 3: #*self.player:\n",
    "                return 1\n",
    "            elif sum(self.state[win_combination]) == -3: #*self.player:\n",
    "                return -1\n",
    "        return None\n",
    "\n",
    "# recursion\n",
    "def minimax(node:Node, depth, maximize):\n",
    "    if depth ==0 or len(node.children)==0:\n",
    "        return node.reward\n",
    "    if maximize:\n",
    "        maxeva=-float(\"inf\")\n",
    "        for children in node.children:\n",
    "            eva = minimax(children, depth-1, False)\n",
    "            maxeva = max(eva, maxeva)\n",
    "        return maxeva\n",
    "    else:\n",
    "        mineva=+float(\"inf\")\n",
    "        for children in node.children:\n",
    "            eva = minimax(children, depth-1, True)\n",
    "            mineva = min(eva, mineva)\n",
    "\n",
    "        return mineva\n",
    "    \n",
    "class TicTacToePlayer:\n",
    "    def __init__(self, state, player):\n",
    "        self.tree = Node(state, player)\n",
    "    def choose_best(self):\n",
    "        minimax_scores = []\n",
    "        for children in self.tree.children:\n",
    "            # maximize if player 1, minimize otherwise\n",
    "            maximize = tree.player==1\n",
    "            minimax_scores.append(minimax(children, 10, maximize))\n",
    "        if maximize:\n",
    "            # check position that is different\n",
    "            pos = np.argwhere(self.tree.state != self.tree.children[np.argmax(minimax_scores)].state)[0][0]\n",
    "            return pos, (self.tree.children[np.argmax(minimax_scores)], minimax_scores, self.tree.children)\n",
    "        else:\n",
    "            pos = np.argwhere(self.tree.state != self.tree.children[np.argmin(minimax_scores)].state)[0][0]\n",
    "            return pos, (self.tree.children[np.argmin(minimax_scores)], minimax_scores, self.tree.children)\n",
    "                \n",
    "                    \n",
    "            \n",
    "        \n",
    "    \n",
    "        \n",
    "    "
   ]
  },
  {
   "cell_type": "code",
   "execution_count": 175,
   "id": "351caa87-7146-4c37-bbb2-d4d64f0a5966",
   "metadata": {},
   "outputs": [
    {
     "data": {
      "text/plain": [
       "1"
      ]
     },
     "execution_count": 175,
     "metadata": {},
     "output_type": "execute_result"
    }
   ],
   "source": [
    "np.argwhere(np.array([-1,1]) != np.array([-1,0]))[0][0]"
   ]
  },
  {
   "cell_type": "code",
   "execution_count": 178,
   "id": "6e0a0929-3f17-498c-bf3b-6261330f4867",
   "metadata": {},
   "outputs": [],
   "source": [
    "player = TicTacToePlayer(np.array([1,0,0,0,0,0,0,0,0]), -1)"
   ]
  },
  {
   "cell_type": "code",
   "execution_count": 179,
   "id": "b4d08845-49db-432a-b673-11fb1903b13f",
   "metadata": {},
   "outputs": [
    {
     "data": {
      "text/plain": [
       "(2,\n",
       " (State:[ 1  0 -1  0  0  0  0  0  0], player 1, reward None,\n",
       "  [1, 0, 1, 0, 1, 0, 1, 0],\n",
       "  [State:[ 1 -1  0  0  0  0  0  0  0], player 1, reward None,\n",
       "   State:[ 1  0 -1  0  0  0  0  0  0], player 1, reward None,\n",
       "   State:[ 1  0  0 -1  0  0  0  0  0], player 1, reward None,\n",
       "   State:[ 1  0  0  0 -1  0  0  0  0], player 1, reward None,\n",
       "   State:[ 1  0  0  0  0 -1  0  0  0], player 1, reward None,\n",
       "   State:[ 1  0  0  0  0  0 -1  0  0], player 1, reward None,\n",
       "   State:[ 1  0  0  0  0  0  0 -1  0], player 1, reward None,\n",
       "   State:[ 1  0  0  0  0  0  0  0 -1], player 1, reward None]))"
      ]
     },
     "execution_count": 179,
     "metadata": {},
     "output_type": "execute_result"
    }
   ],
   "source": [
    "player.choose_best()"
   ]
  },
  {
   "cell_type": "code",
   "execution_count": 135,
   "id": "266b315a-2fbd-4add-89d6-a4db11e3d1c9",
   "metadata": {},
   "outputs": [
    {
     "data": {
      "text/plain": [
       "array([[0, 0, 0],\n",
       "       [0, 1, 0],\n",
       "       [0, 0, 0]])"
      ]
     },
     "execution_count": 135,
     "metadata": {},
     "output_type": "execute_result"
    }
   ],
   "source": [
    "state = np.array([0,0,0,0,1,0,0,0,0])\n",
    "state.reshape(3,3)"
   ]
  },
  {
   "cell_type": "code",
   "execution_count": 136,
   "id": "e55bf15e-2f15-4503-b4e5-669eec42377c",
   "metadata": {},
   "outputs": [],
   "source": [
    "tree = Node(state, -1)"
   ]
  },
  {
   "cell_type": "code",
   "execution_count": 102,
   "id": "c69071cc-ef1c-4812-9486-b69a893697a3",
   "metadata": {},
   "outputs": [],
   "source": [
    "with open(f\"tree_tictactoe.pickle\", \"wb\") as f:\n",
    "    pickle.dump(tree, f)"
   ]
  },
  {
   "cell_type": "code",
   "execution_count": 137,
   "id": "37fc91d8-34bd-4513-b99a-cb833b830bbb",
   "metadata": {},
   "outputs": [
    {
     "data": {
      "text/plain": [
       "[State:[-1  0  0  0  1  0  0  0  0], player 1, reward None,\n",
       " State:[ 0 -1  0  0  1  0  0  0  0], player 1, reward None,\n",
       " State:[ 0  0 -1  0  1  0  0  0  0], player 1, reward None,\n",
       " State:[ 0  0  0 -1  1  0  0  0  0], player 1, reward None,\n",
       " State:[ 0  0  0  0  1 -1  0  0  0], player 1, reward None,\n",
       " State:[ 0  0  0  0  1  0 -1  0  0], player 1, reward None,\n",
       " State:[ 0  0  0  0  1  0  0 -1  0], player 1, reward None,\n",
       " State:[ 0  0  0  0  1  0  0  0 -1], player 1, reward None]"
      ]
     },
     "execution_count": 137,
     "metadata": {},
     "output_type": "execute_result"
    }
   ],
   "source": [
    "tree.children"
   ]
  },
  {
   "cell_type": "code",
   "execution_count": 138,
   "id": "a6f353ac-edb2-4b4c-b9dd-4fe54e4346a3",
   "metadata": {},
   "outputs": [
    {
     "name": "stdout",
     "output_type": "stream",
     "text": [
      "State:[-1  1  0  0  1  0  0  0  0], player -1, reward None 0\n",
      "State:[-1  0  1  0  1  0  0  0  0], player -1, reward None 0\n",
      "State:[-1  0  0  1  1  0  0  0  0], player -1, reward None 0\n",
      "State:[-1  0  0  0  1  1  0  0  0], player -1, reward None 0\n",
      "State:[-1  0  0  0  1  0  1  0  0], player -1, reward None 0\n",
      "State:[-1  0  0  0  1  0  0  1  0], player -1, reward None 0\n",
      "State:[-1  0  0  0  1  0  0  0  1], player -1, reward None 0\n"
     ]
    }
   ],
   "source": [
    "for children in tree.children[0].children:\n",
    "    print(children, minimax(children, 10, children.player==1))"
   ]
  },
  {
   "cell_type": "code",
   "execution_count": 98,
   "id": "0e8feb90-449b-4ff4-bc41-0f8c8175a4cd",
   "metadata": {},
   "outputs": [],
   "source": [
    "tree.children[0].minmax_score"
   ]
  },
  {
   "cell_type": "code",
   "execution_count": 10,
   "id": "1032a41a-0924-44b5-a646-f5c99646ef45",
   "metadata": {},
   "outputs": [
    {
     "data": {
      "text/plain": [
       "array([0, 1])"
      ]
     },
     "execution_count": 10,
     "metadata": {},
     "output_type": "execute_result"
    }
   ],
   "source": [
    "np.where(np.array([0,0])==0)[0]"
   ]
  },
  {
   "cell_type": "code",
   "execution_count": 5,
   "id": "331010f6-797a-4dfd-8026-f81d50552dea",
   "metadata": {},
   "outputs": [
    {
     "data": {
      "text/plain": [
       "2"
      ]
     },
     "execution_count": 5,
     "metadata": {},
     "output_type": "execute_result"
    }
   ],
   "source": [
    "max(2,1)"
   ]
  }
 ],
 "metadata": {
  "kernelspec": {
   "display_name": "Python 3 (ipykernel)",
   "language": "python",
   "name": "python3"
  },
  "language_info": {
   "codemirror_mode": {
    "name": "ipython",
    "version": 3
   },
   "file_extension": ".py",
   "mimetype": "text/x-python",
   "name": "python",
   "nbconvert_exporter": "python",
   "pygments_lexer": "ipython3",
   "version": "3.10.0"
  }
 },
 "nbformat": 4,
 "nbformat_minor": 5
}
